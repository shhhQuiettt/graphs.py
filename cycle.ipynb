{
 "cells": [
  {
   "cell_type": "code",
   "execution_count": null,
   "metadata": {},
   "outputs": [
    {
     "ename": "",
     "evalue": "",
     "output_type": "error",
     "traceback": [
      "\u001b[1;31mRunning cells with 'Python 3.11.3 64-bit' requires ipykernel package.\n",
      "\u001b[1;31mRun the following command to install 'ipykernel' into the Python environment. \n",
      "\u001b[1;31mCommand: '/bin/python -m pip install ipykernel -U --user --force-reinstall'"
     ]
    }
   ],
   "source": [
    "# %load_ext autoreload\n",
    "# %autoreload 2\n",
    "# import numpy as np\n",
    "# import matplotlib.pyplot as plt\n",
    "# import pandas as pd\n",
    "import sorts\n",
    "import graphs\n",
    "import dag\n",
    "import timeit\n",
    "import copy\n",
    "import ec\n",
    "import hc\n",
    "import time\n"
   ]
  },
  {
   "cell_type": "code",
   "execution_count": null,
   "metadata": {},
   "outputs": [],
   "source": [
    "density = [0.3, 0.5, 0.7]\n",
    "order_hc = [5,7,9,12]"
   ]
  },
  {
   "cell_type": "code",
   "execution_count": null,
   "metadata": {},
   "outputs": [],
   "source": [
    "results_hc = {\n",
    "    0.3 : [],\n",
    "    0.5 : [],\n",
    "    0.7: [],\n",
    "}\n",
    "\n",
    "number = 100\n",
    "\n",
    "for dens in density:\n",
    "    for ord in order_hc:\n",
    "        g = dag.make_undirected_hc(graphs.DirectedAdjacencyList, dens, ord, time.time())\n",
    "\n",
    "        results_hc[dens].append(\n",
    "            timeit.timeit(\"hc.flores()g\",globals=globals(), number = number)\n",
    "        )\n",
    "\n",
    "print(results_hc)\n"
   ]
  }
 ],
 "metadata": {
  "kernelspec": {
   "display_name": "Python 3.11.3 64-bit",
   "language": "python",
   "name": "python3"
  },
  "language_info": {
   "name": "python",
   "version": "3.11.3"
  },
  "orig_nbformat": 4,
  "vscode": {
   "interpreter": {
    "hash": "e7370f93d1d0cde622a1f8e1c04877d8463912d04d973331ad4851f04de6915a"
   }
  }
 },
 "nbformat": 4,
 "nbformat_minor": 2
}
