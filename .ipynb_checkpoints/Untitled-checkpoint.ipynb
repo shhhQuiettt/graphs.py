{
 "cells": [
  {
   "cell_type": "code",
   "execution_count": 10,
   "id": "301c84c0",
   "metadata": {
    "tags": []
   },
   "outputs": [],
   "source": [
    "import numpy as np\n",
    "import matplotlib.pyplot as plt\n",
    "import pandas as pd\n",
    "import sorts\n",
    "import graphs\n",
    "import dag\n",
    "import timeit"
   ]
  },
  {
   "cell_type": "code",
   "execution_count": 13,
   "id": "69c56926-7c71-4381-9647-a7a17da38640",
   "metadata": {},
   "outputs": [],
   "source": [
    "densities = np.arange(0,1,0.1)\n",
    "graph_size = 10\n",
    "density_results = pd.DataFrame([\"density\", \"sorting_algorithm\", \"time\"])"
   ]
  },
  {
   "cell_type": "code",
   "execution_count": 18,
   "id": "ab1d60ac-7256-4ad2-9768-42fa2d7233e7",
   "metadata": {
    "tags": []
   },
   "outputs": [
    {
     "name": "stdout",
     "output_type": "stream",
     "text": [
      "0.013470602003508247\n",
      "0.009376304005854763\n",
      "0.009512522003205959\n",
      "0.022774978999223094\n",
      "0.012229102998389862\n",
      "0.012144002001150511\n",
      "0.012139973994635511\n",
      "0.01154548899648944\n",
      "0.010826488003658596\n",
      "0.010552090003329795\n"
     ]
    }
   ],
   "source": [
    "for density in densities:\n",
    "    g_adj_mat = dag.radnom_dag_adjacency_matrix(graph_size, density)\n",
    "    g_adj_list = dag.random_dag_adjacency_list(graph_size, density)\n",
    "    \n",
    "    #DSF\n",
    "    time = timeit.timeit(\"sorts.topological_sort(g_adj_mat, sorts.SortType.DFS)\", globals=globals(), number=1000)\n",
    "    print(time)\n",
    "    \n",
    "    \n",
    "    \n"
   ]
  }
 ],
 "metadata": {
  "kernelspec": {
   "display_name": "Python 3 (ipykernel)",
   "language": "python",
   "name": "python3"
  },
  "language_info": {
   "codemirror_mode": {
    "name": "ipython",
    "version": 3
   },
   "file_extension": ".py",
   "mimetype": "text/x-python",
   "name": "python",
   "nbconvert_exporter": "python",
   "pygments_lexer": "ipython3",
   "version": "3.11.3"
  }
 },
 "nbformat": 4,
 "nbformat_minor": 5
}
